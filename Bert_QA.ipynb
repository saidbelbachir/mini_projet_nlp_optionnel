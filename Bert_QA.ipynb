{
 "cells": [
  {
   "cell_type": "markdown",
   "metadata": {},
   "source": [
    "# Exercice : Bert & Systèmes de Questions/Réponses"
   ]
  },
  {
   "cell_type": "markdown",
   "metadata": {},
   "source": [
    "<img src=\"./qa_header.png\" width=\"1000\">"
   ]
  },
  {
   "cell_type": "markdown",
   "metadata": {},
   "source": [
    "## On va utiliser la librairie [`transformers`](https://huggingface.co/transformers/index.html) qui fait référence pour le déploiement de modèles pré-entrainés."
   ]
  },
  {
   "cell_type": "code",
   "execution_count": 3,
   "metadata": {},
   "outputs": [
    {
     "name": "stdout",
     "output_type": "stream",
     "text": [
      "Collecting package metadata (current_repodata.json): ...working... done\n",
      "Solving environment: ...working... done\n",
      "\n",
      "## Package Plan ##\n",
      "\n",
      "  environment location: C:\\Users\\said\\anaconda3\n",
      "\n",
      "  added / updated specs:\n",
      "    - transformers\n",
      "\n",
      "\n",
      "The following packages will be downloaded:\n",
      "\n",
      "    package                    |            build\n",
      "    ---------------------------|-----------------\n",
      "    transformers-4.9.2         |     pyhd8ed1ab_0         1.3 MB  conda-forge\n",
      "    ------------------------------------------------------------\n",
      "                                           Total:         1.3 MB\n",
      "\n",
      "The following packages will be UPDATED:\n",
      "\n",
      "  transformers                           4.6.1-pyhd8ed1ab_0 --> 4.9.2-pyhd8ed1ab_0\n",
      "\n",
      "\n",
      "\n",
      "Downloading and Extracting Packages\n",
      "\n",
      "transformers-4.9.2   | 1.3 MB    |            |   0% \n",
      "transformers-4.9.2   | 1.3 MB    | 1          |   1% \n",
      "transformers-4.9.2   | 1.3 MB    | 3          |   4% \n",
      "transformers-4.9.2   | 1.3 MB    | 4          |   5% \n",
      "transformers-4.9.2   | 1.3 MB    | 6          |   6% \n",
      "transformers-4.9.2   | 1.3 MB    | #2         |  12% \n",
      "transformers-4.9.2   | 1.3 MB    | #4         |  15% \n",
      "transformers-4.9.2   | 1.3 MB    | #8         |  18% \n",
      "transformers-4.9.2   | 1.3 MB    | ##         |  21% \n",
      "transformers-4.9.2   | 1.3 MB    | ##6        |  27% \n",
      "transformers-4.9.2   | 1.3 MB    | ###        |  30% \n",
      "transformers-4.9.2   | 1.3 MB    | ###2       |  33% \n",
      "transformers-4.9.2   | 1.3 MB    | ###6       |  36% \n",
      "transformers-4.9.2   | 1.3 MB    | ###9       |  40% \n",
      "transformers-4.9.2   | 1.3 MB    | ####2      |  42% \n",
      "transformers-4.9.2   | 1.3 MB    | ####4      |  45% \n",
      "transformers-4.9.2   | 1.3 MB    | #####3     |  53% \n",
      "transformers-4.9.2   | 1.3 MB    | #####6     |  57% \n",
      "transformers-4.9.2   | 1.3 MB    | #####9     |  59% \n",
      "transformers-4.9.2   | 1.3 MB    | ######2    |  63% \n",
      "transformers-4.9.2   | 1.3 MB    | ######5    |  65% \n",
      "transformers-4.9.2   | 1.3 MB    | ######7    |  68% \n",
      "transformers-4.9.2   | 1.3 MB    | #######    |  70% \n",
      "transformers-4.9.2   | 1.3 MB    | #######3   |  74% \n",
      "transformers-4.9.2   | 1.3 MB    | #######7   |  77% \n",
      "transformers-4.9.2   | 1.3 MB    | ########1  |  81% \n",
      "transformers-4.9.2   | 1.3 MB    | ########4  |  85% \n",
      "transformers-4.9.2   | 1.3 MB    | ########8  |  88% \n",
      "transformers-4.9.2   | 1.3 MB    | #########1 |  92% \n",
      "transformers-4.9.2   | 1.3 MB    | #########5 |  96% \n",
      "transformers-4.9.2   | 1.3 MB    | #########9 |  99% \n",
      "transformers-4.9.2   | 1.3 MB    | ########## | 100% \n",
      "Preparing transaction: ...working... done\n",
      "Verifying transaction: ...working... done\n",
      "Executing transaction: ...working... done\n",
      "\n",
      "Note: you may need to restart the kernel to use updated packages.\n"
     ]
    }
   ],
   "source": [
    "conda install -c conda-forge transformers"
   ]
  },
  {
   "cell_type": "code",
   "execution_count": 1,
   "metadata": {},
   "outputs": [],
   "source": [
    "import os\n",
    "import torch\n",
    "from transformers import (\n",
    "    AutoConfig,\n",
    "    AutoModel,\n",
    "    AutoModelForQuestionAnswering,\n",
    "    AutoTokenizer,\n",
    ")"
   ]
  },
  {
   "cell_type": "code",
   "execution_count": 3,
   "metadata": {},
   "outputs": [
    {
     "name": "stdout",
     "output_type": "stream",
     "text": [
      "Collecting git+https://github.com/AntoineSimoulin/titulus\n",
      "  Cloning https://github.com/AntoineSimoulin/titulus to c:\\users\\said\\appdata\\local\\temp\\pip-req-build-9rdsatij\n"
     ]
    },
    {
     "name": "stderr",
     "output_type": "stream",
     "text": [
      "  Running command git clone -q https://github.com/AntoineSimoulin/titulus 'C:\\Users\\said\\AppData\\Local\\Temp\\pip-req-build-9rdsatij'\n",
      "  ERROR: Error [WinError 2] Le fichier spécifié est introuvable while executing command git clone -q https://github.com/AntoineSimoulin/titulus 'C:\\Users\\said\\AppData\\Local\\Temp\\pip-req-build-9rdsatij'\n",
      "ERROR: Cannot find command 'git' - do you have 'git' installed and in your PATH?\n"
     ]
    }
   ],
   "source": [
    "!pip install git+https://github.com/AntoineSimoulin/titulus"
   ]
  },
  {
   "cell_type": "code",
   "execution_count": 1,
   "metadata": {},
   "outputs": [],
   "source": [
    "from titulus import color, print_"
   ]
  },
  {
   "cell_type": "markdown",
   "metadata": {},
   "source": [
    "## Bert"
   ]
  },
  {
   "cell_type": "markdown",
   "metadata": {},
   "source": [
    "Les architectures transformers ont inspiré le modèle Bert <span class=\"badge badge-secondary\">Devlin et al. (2019)</span> qui consiste en une succession de transformers. Ce modèle est présent également la spécificité d’être pré-entrainé : les poids sont initialisés en entrainant le modèle sur une tâche auto-supervisée. En l’occurrence prédire des mots masqués, on parle de modèle de langue masqué. Ce modèle est très versatile et peut être décliné pour quasiment tous les cas d’usages du NLP.\n",
    "\n",
    "\n",
    "<span class=\"badge badge-secondary\">Devlin et al. (2019)</span> Jacob Devlin, Ming-Wei Chang, Kenton Lee, Kristina Toutanova: BERT: Pre-training of Deep Bidirectional Transformers for Language Understanding. NAACL-HLT (1) 2019: 4171-4186"
   ]
  },
  {
   "cell_type": "code",
   "execution_count": 2,
   "metadata": {},
   "outputs": [
    {
     "ename": "NameError",
     "evalue": "name 'os' is not defined",
     "output_type": "error",
     "traceback": [
      "\u001b[1;31m---------------------------------------------------------------------------\u001b[0m",
      "\u001b[1;31mNameError\u001b[0m                                 Traceback (most recent call last)",
      "\u001b[1;32m<ipython-input-2-4d39042af08f>\u001b[0m in \u001b[0;36m<module>\u001b[1;34m\u001b[0m\n\u001b[1;32m----> 1\u001b[1;33m \u001b[0mconfig_name\u001b[0m \u001b[1;33m=\u001b[0m \u001b[0mos\u001b[0m\u001b[1;33m.\u001b[0m\u001b[0mpath\u001b[0m\u001b[1;33m.\u001b[0m\u001b[0mjoin\u001b[0m\u001b[1;33m(\u001b[0m\u001b[1;34m'camembert-qa'\u001b[0m\u001b[1;33m,\u001b[0m \u001b[1;34m'config.json'\u001b[0m\u001b[1;33m)\u001b[0m\u001b[1;33m\u001b[0m\u001b[1;33m\u001b[0m\u001b[0m\n\u001b[0m\u001b[0;32m      2\u001b[0m \u001b[0mmodel_name_or_path\u001b[0m \u001b[1;33m=\u001b[0m \u001b[1;34m'./camembert-qa'\u001b[0m\u001b[1;33m\u001b[0m\u001b[1;33m\u001b[0m\u001b[0m\n\u001b[0;32m      3\u001b[0m \u001b[1;33m\u001b[0m\u001b[0m\n\u001b[0;32m      4\u001b[0m \u001b[0mdo_lower_case\u001b[0m \u001b[1;33m=\u001b[0m \u001b[1;32mFalse\u001b[0m\u001b[1;33m\u001b[0m\u001b[1;33m\u001b[0m\u001b[0m\n",
      "\u001b[1;31mNameError\u001b[0m: name 'os' is not defined"
     ]
    }
   ],
   "source": [
    "config_name = os.path.join('camembert-qa', 'config.json')\n",
    "model_name_or_path = './camembert-qa'\n",
    "\n",
    "do_lower_case = False"
   ]
  },
  {
   "cell_type": "code",
   "execution_count": 6,
   "metadata": {},
   "outputs": [
    {
     "name": "stderr",
     "output_type": "stream",
     "text": [
      "404 Client Error: Not Found for url: https://huggingface.co/camembert-qa%5Cconfig.json/resolve/main/config.json\n"
     ]
    },
    {
     "ename": "OSError",
     "evalue": "Can't load config for 'camembert-qa\\config.json'. Make sure that:\n\n- 'camembert-qa\\config.json' is a correct model identifier listed on 'https://huggingface.co/models'\n\n- or 'camembert-qa\\config.json' is the correct path to a directory containing a config.json file\n\n",
     "output_type": "error",
     "traceback": [
      "\u001b[1;31m---------------------------------------------------------------------------\u001b[0m",
      "\u001b[1;31mHTTPError\u001b[0m                                 Traceback (most recent call last)",
      "\u001b[1;32m~\\anaconda3\\lib\\site-packages\\transformers\\configuration_utils.py\u001b[0m in \u001b[0;36mget_config_dict\u001b[1;34m(cls, pretrained_model_name_or_path, **kwargs)\u001b[0m\n\u001b[0;32m    523\u001b[0m             \u001b[1;31m# Load from URL or cache if already cached\u001b[0m\u001b[1;33m\u001b[0m\u001b[1;33m\u001b[0m\u001b[1;33m\u001b[0m\u001b[0m\n\u001b[1;32m--> 524\u001b[1;33m             resolved_config_file = cached_path(\n\u001b[0m\u001b[0;32m    525\u001b[0m                 \u001b[0mconfig_file\u001b[0m\u001b[1;33m,\u001b[0m\u001b[1;33m\u001b[0m\u001b[1;33m\u001b[0m\u001b[0m\n",
      "\u001b[1;32m~\\anaconda3\\lib\\site-packages\\transformers\\file_utils.py\u001b[0m in \u001b[0;36mcached_path\u001b[1;34m(url_or_filename, cache_dir, force_download, proxies, resume_download, user_agent, extract_compressed_file, force_extract, use_auth_token, local_files_only)\u001b[0m\n\u001b[0;32m   1403\u001b[0m         \u001b[1;31m# URL, so get it from the cache (downloading if necessary)\u001b[0m\u001b[1;33m\u001b[0m\u001b[1;33m\u001b[0m\u001b[1;33m\u001b[0m\u001b[0m\n\u001b[1;32m-> 1404\u001b[1;33m         output_path = get_from_cache(\n\u001b[0m\u001b[0;32m   1405\u001b[0m             \u001b[0murl_or_filename\u001b[0m\u001b[1;33m,\u001b[0m\u001b[1;33m\u001b[0m\u001b[1;33m\u001b[0m\u001b[0m\n",
      "\u001b[1;32m~\\anaconda3\\lib\\site-packages\\transformers\\file_utils.py\u001b[0m in \u001b[0;36mget_from_cache\u001b[1;34m(url, cache_dir, force_download, proxies, etag_timeout, resume_download, user_agent, use_auth_token, local_files_only)\u001b[0m\n\u001b[0;32m   1574\u001b[0m             \u001b[0mr\u001b[0m \u001b[1;33m=\u001b[0m \u001b[0mrequests\u001b[0m\u001b[1;33m.\u001b[0m\u001b[0mhead\u001b[0m\u001b[1;33m(\u001b[0m\u001b[0murl\u001b[0m\u001b[1;33m,\u001b[0m \u001b[0mheaders\u001b[0m\u001b[1;33m=\u001b[0m\u001b[0mheaders\u001b[0m\u001b[1;33m,\u001b[0m \u001b[0mallow_redirects\u001b[0m\u001b[1;33m=\u001b[0m\u001b[1;32mFalse\u001b[0m\u001b[1;33m,\u001b[0m \u001b[0mproxies\u001b[0m\u001b[1;33m=\u001b[0m\u001b[0mproxies\u001b[0m\u001b[1;33m,\u001b[0m \u001b[0mtimeout\u001b[0m\u001b[1;33m=\u001b[0m\u001b[0metag_timeout\u001b[0m\u001b[1;33m)\u001b[0m\u001b[1;33m\u001b[0m\u001b[1;33m\u001b[0m\u001b[0m\n\u001b[1;32m-> 1575\u001b[1;33m             \u001b[0mr\u001b[0m\u001b[1;33m.\u001b[0m\u001b[0mraise_for_status\u001b[0m\u001b[1;33m(\u001b[0m\u001b[1;33m)\u001b[0m\u001b[1;33m\u001b[0m\u001b[1;33m\u001b[0m\u001b[0m\n\u001b[0m\u001b[0;32m   1576\u001b[0m             \u001b[0metag\u001b[0m \u001b[1;33m=\u001b[0m \u001b[0mr\u001b[0m\u001b[1;33m.\u001b[0m\u001b[0mheaders\u001b[0m\u001b[1;33m.\u001b[0m\u001b[0mget\u001b[0m\u001b[1;33m(\u001b[0m\u001b[1;34m\"X-Linked-Etag\"\u001b[0m\u001b[1;33m)\u001b[0m \u001b[1;32mor\u001b[0m \u001b[0mr\u001b[0m\u001b[1;33m.\u001b[0m\u001b[0mheaders\u001b[0m\u001b[1;33m.\u001b[0m\u001b[0mget\u001b[0m\u001b[1;33m(\u001b[0m\u001b[1;34m\"ETag\"\u001b[0m\u001b[1;33m)\u001b[0m\u001b[1;33m\u001b[0m\u001b[1;33m\u001b[0m\u001b[0m\n",
      "\u001b[1;32m~\\anaconda3\\lib\\site-packages\\requests\\models.py\u001b[0m in \u001b[0;36mraise_for_status\u001b[1;34m(self)\u001b[0m\n\u001b[0;32m    942\u001b[0m         \u001b[1;32mif\u001b[0m \u001b[0mhttp_error_msg\u001b[0m\u001b[1;33m:\u001b[0m\u001b[1;33m\u001b[0m\u001b[1;33m\u001b[0m\u001b[0m\n\u001b[1;32m--> 943\u001b[1;33m             \u001b[1;32mraise\u001b[0m \u001b[0mHTTPError\u001b[0m\u001b[1;33m(\u001b[0m\u001b[0mhttp_error_msg\u001b[0m\u001b[1;33m,\u001b[0m \u001b[0mresponse\u001b[0m\u001b[1;33m=\u001b[0m\u001b[0mself\u001b[0m\u001b[1;33m)\u001b[0m\u001b[1;33m\u001b[0m\u001b[1;33m\u001b[0m\u001b[0m\n\u001b[0m\u001b[0;32m    944\u001b[0m \u001b[1;33m\u001b[0m\u001b[0m\n",
      "\u001b[1;31mHTTPError\u001b[0m: 404 Client Error: Not Found for url: https://huggingface.co/camembert-qa%5Cconfig.json/resolve/main/config.json",
      "\nDuring handling of the above exception, another exception occurred:\n",
      "\u001b[1;31mOSError\u001b[0m                                   Traceback (most recent call last)",
      "\u001b[1;32m<ipython-input-6-4279de781ad5>\u001b[0m in \u001b[0;36m<module>\u001b[1;34m\u001b[0m\n\u001b[1;32m----> 1\u001b[1;33m config = AutoConfig.from_pretrained(\n\u001b[0m\u001b[0;32m      2\u001b[0m     \u001b[0mconfig_name\u001b[0m\u001b[1;33m,\u001b[0m\u001b[1;33m\u001b[0m\u001b[1;33m\u001b[0m\u001b[0m\n\u001b[0;32m      3\u001b[0m     cache_dir=None)\n\u001b[0;32m      4\u001b[0m \u001b[1;33m\u001b[0m\u001b[0m\n\u001b[0;32m      5\u001b[0m tokenizer = AutoTokenizer.from_pretrained(\n",
      "\u001b[1;32m~\\anaconda3\\lib\\site-packages\\transformers\\models\\auto\\configuration_auto.py\u001b[0m in \u001b[0;36mfrom_pretrained\u001b[1;34m(cls, pretrained_model_name_or_path, **kwargs)\u001b[0m\n\u001b[0;32m    513\u001b[0m         \"\"\"\n\u001b[0;32m    514\u001b[0m         \u001b[0mkwargs\u001b[0m\u001b[1;33m[\u001b[0m\u001b[1;34m\"_from_auto\"\u001b[0m\u001b[1;33m]\u001b[0m \u001b[1;33m=\u001b[0m \u001b[1;32mTrue\u001b[0m\u001b[1;33m\u001b[0m\u001b[1;33m\u001b[0m\u001b[0m\n\u001b[1;32m--> 515\u001b[1;33m         \u001b[0mconfig_dict\u001b[0m\u001b[1;33m,\u001b[0m \u001b[0m_\u001b[0m \u001b[1;33m=\u001b[0m \u001b[0mPretrainedConfig\u001b[0m\u001b[1;33m.\u001b[0m\u001b[0mget_config_dict\u001b[0m\u001b[1;33m(\u001b[0m\u001b[0mpretrained_model_name_or_path\u001b[0m\u001b[1;33m,\u001b[0m \u001b[1;33m**\u001b[0m\u001b[0mkwargs\u001b[0m\u001b[1;33m)\u001b[0m\u001b[1;33m\u001b[0m\u001b[1;33m\u001b[0m\u001b[0m\n\u001b[0m\u001b[0;32m    516\u001b[0m         \u001b[1;32mif\u001b[0m \u001b[1;34m\"model_type\"\u001b[0m \u001b[1;32min\u001b[0m \u001b[0mconfig_dict\u001b[0m\u001b[1;33m:\u001b[0m\u001b[1;33m\u001b[0m\u001b[1;33m\u001b[0m\u001b[0m\n\u001b[0;32m    517\u001b[0m             \u001b[0mconfig_class\u001b[0m \u001b[1;33m=\u001b[0m \u001b[0mCONFIG_MAPPING\u001b[0m\u001b[1;33m[\u001b[0m\u001b[0mconfig_dict\u001b[0m\u001b[1;33m[\u001b[0m\u001b[1;34m\"model_type\"\u001b[0m\u001b[1;33m]\u001b[0m\u001b[1;33m]\u001b[0m\u001b[1;33m\u001b[0m\u001b[1;33m\u001b[0m\u001b[0m\n",
      "\u001b[1;32m~\\anaconda3\\lib\\site-packages\\transformers\\configuration_utils.py\u001b[0m in \u001b[0;36mget_config_dict\u001b[1;34m(cls, pretrained_model_name_or_path, **kwargs)\u001b[0m\n\u001b[0;32m    546\u001b[0m                 \u001b[0mmsg\u001b[0m \u001b[1;33m+=\u001b[0m \u001b[1;34mf\"- or '{revision}' is a valid git identifier (branch name, a tag name, or a commit id) that exists for this model name as listed on its model page on 'https://huggingface.co/models'\\n\\n\"\u001b[0m\u001b[1;33m\u001b[0m\u001b[1;33m\u001b[0m\u001b[0m\n\u001b[0;32m    547\u001b[0m \u001b[1;33m\u001b[0m\u001b[0m\n\u001b[1;32m--> 548\u001b[1;33m             \u001b[1;32mraise\u001b[0m \u001b[0mEnvironmentError\u001b[0m\u001b[1;33m(\u001b[0m\u001b[0mmsg\u001b[0m\u001b[1;33m)\u001b[0m\u001b[1;33m\u001b[0m\u001b[1;33m\u001b[0m\u001b[0m\n\u001b[0m\u001b[0;32m    549\u001b[0m \u001b[1;33m\u001b[0m\u001b[0m\n\u001b[0;32m    550\u001b[0m         \u001b[1;32mexcept\u001b[0m \u001b[0mjson\u001b[0m\u001b[1;33m.\u001b[0m\u001b[0mJSONDecodeError\u001b[0m\u001b[1;33m:\u001b[0m\u001b[1;33m\u001b[0m\u001b[1;33m\u001b[0m\u001b[0m\n",
      "\u001b[1;31mOSError\u001b[0m: Can't load config for 'camembert-qa\\config.json'. Make sure that:\n\n- 'camembert-qa\\config.json' is a correct model identifier listed on 'https://huggingface.co/models'\n\n- or 'camembert-qa\\config.json' is the correct path to a directory containing a config.json file\n\n"
     ]
    }
   ],
   "source": [
    "config = AutoConfig.from_pretrained(\n",
    "    config_name, \n",
    "    cache_dir=None)\n",
    "\n",
    "tokenizer = AutoTokenizer.from_pretrained(\n",
    "    model_name_or_path,\n",
    "    do_lower_case=do_lower_case,\n",
    "    cache_dir=None,\n",
    ")\n",
    "\n",
    "model = AutoModel.from_pretrained(\n",
    "    model_name_or_path,\n",
    "    from_tf=False,\n",
    "    config=config,\n",
    "    cache_dir=None,\n",
    ")"
   ]
  },
  {
   "cell_type": "code",
   "execution_count": 16,
   "metadata": {},
   "outputs": [],
   "source": [
    "inputs = tokenizer(\"Longtemps, je me suis couché de bonne heure \", return_tensors=\"pt\")"
   ]
  },
  {
   "cell_type": "code",
   "execution_count": 23,
   "metadata": {},
   "outputs": [
    {
     "data": {
      "text/plain": [
       "torch.Size([1, 11])"
      ]
     },
     "execution_count": 23,
     "metadata": {},
     "output_type": "execute_result"
    }
   ],
   "source": [
    "inputs['input_ids'].shape"
   ]
  },
  {
   "cell_type": "code",
   "execution_count": 24,
   "metadata": {},
   "outputs": [],
   "source": [
    "outputs = model(**inputs)"
   ]
  },
  {
   "cell_type": "code",
   "execution_count": 25,
   "metadata": {},
   "outputs": [
    {
     "data": {
      "text/plain": [
       "torch.Size([1, 11, 768])"
      ]
     },
     "execution_count": 25,
     "metadata": {},
     "output_type": "execute_result"
    }
   ],
   "source": [
    "outputs[0].shape"
   ]
  },
  {
   "cell_type": "code",
   "execution_count": 26,
   "metadata": {},
   "outputs": [
    {
     "data": {
      "text/plain": [
       "torch.Size([1, 768])"
      ]
     },
     "execution_count": 26,
     "metadata": {},
     "output_type": "execute_result"
    }
   ],
   "source": [
    "outputs[1].shape"
   ]
  },
  {
   "cell_type": "markdown",
   "metadata": {},
   "source": [
    "## Questions/Réponses"
   ]
  },
  {
   "cell_type": "markdown",
   "metadata": {},
   "source": [
    "<img src=\"https://fquad.illuin.tech/authors/admin/avatar_huc53b72e0c91a944ce6ad6c5a4ef38357_37416_270x270_fill_lanczos_center_2.png\" width=\"100\">"
   ]
  },
  {
   "cell_type": "markdown",
   "metadata": {},
   "source": [
    "FQuAD <span class=\"badge badge-secondary\">Hoffschmidt et al. (2020)</span> est un jeu de données pour la compréhension de lecture en français constitué de plus de 25 000 questions créées à partir d'un ensemble d'articles de Wikipédia. Il est construit sur le modèle du jeu de données anglais, SQuAD. La création du jeu de données a été supervisée par l'entreprise [Illuin Technology](https://fquad.illuin.tech/). Le jeu de données est sous license [CC BY-NC-SA 3.0](https://creativecommons.org/licenses/by-nc-sa/3.0/fr/), ce qui restreint en particulier son utilisation commerciale. \n",
    "\n",
    "J'ai récupéré les données et j'ai entrainé un modèle de Questions/Réponse (Q&A) à partir de l'architecture recommandée dans l'[article](https://arxiv.org/pdf/2002.06071.pdf) <span class=\"badge badge-secondary\">Martin et al. (2020)</span>. Vous pouvez récupérer les poids directement sur le [Moodle](https://moodle.u-paris.fr/course/view.php?id=11048#section-9). Comme pour le modèle GPT-2 de la semaine dernière, j'ai réalisé l'entrainement sur un TPU dans l'environnement [Google COLAB](https://colab.research.google.com/). \n",
    "\n",
    "La semaine dernière, j'avais procédé au pré-entrainement complet du modèle qui avait pris environ une semaine. Cette fois-ci, je n'ai opéré que le \"fine-tuning\" d'un modèle déjà pré-entrainé : Camembert. Cela n'a pris que 1h sur un TPU.\n",
    "\n",
    "<span class=\"badge badge-secondary\">Hoffschmidt et al. (2020)</span> Martin d'Hoffschmidt, Maxime Vidal, Wacim Belblidia, Tom Brendlé: FQuAD: French Question Answering Dataset. CoRR abs/2002.06071 (2020)\n",
    "\n",
    "<span class=\"badge badge-secondary\">Martin et al. (2020)</span> Louis Martin, Benjamin Müller, Pedro Javier Ortiz Suárez, Yoann Dupont, Laurent Romary, Éric de la Clergerie, Djamé Seddah, Benoît Sagot: CamemBERT: a Tasty French Language Model. ACL 2020: 7203-7219"
   ]
  },
  {
   "cell_type": "code",
   "execution_count": 3,
   "metadata": {},
   "outputs": [
    {
     "ename": "NameError",
     "evalue": "name 'AutoModelForQuestionAnswering' is not defined",
     "output_type": "error",
     "traceback": [
      "\u001b[1;31m---------------------------------------------------------------------------\u001b[0m",
      "\u001b[1;31mNameError\u001b[0m                                 Traceback (most recent call last)",
      "\u001b[1;32m<ipython-input-3-f79fc2941ffd>\u001b[0m in \u001b[0;36m<module>\u001b[1;34m\u001b[0m\n\u001b[1;32m----> 1\u001b[1;33m model_qa = AutoModelForQuestionAnswering.from_pretrained(\n\u001b[0m\u001b[0;32m      2\u001b[0m     \u001b[0mmodel_name_or_path\u001b[0m\u001b[1;33m,\u001b[0m\u001b[1;33m\u001b[0m\u001b[1;33m\u001b[0m\u001b[0m\n\u001b[0;32m      3\u001b[0m     \u001b[0mfrom_tf\u001b[0m\u001b[1;33m=\u001b[0m\u001b[1;32mFalse\u001b[0m\u001b[1;33m,\u001b[0m\u001b[1;33m\u001b[0m\u001b[1;33m\u001b[0m\u001b[0m\n\u001b[0;32m      4\u001b[0m     \u001b[0mconfig\u001b[0m\u001b[1;33m=\u001b[0m\u001b[0mconfig\u001b[0m\u001b[1;33m,\u001b[0m\u001b[1;33m\u001b[0m\u001b[1;33m\u001b[0m\u001b[0m\n\u001b[0;32m      5\u001b[0m     \u001b[0mcache_dir\u001b[0m\u001b[1;33m=\u001b[0m\u001b[1;32mNone\u001b[0m\u001b[1;33m,\u001b[0m\u001b[1;33m\u001b[0m\u001b[1;33m\u001b[0m\u001b[0m\n",
      "\u001b[1;31mNameError\u001b[0m: name 'AutoModelForQuestionAnswering' is not defined"
     ]
    }
   ],
   "source": [
    "model_qa = AutoModelForQuestionAnswering.from_pretrained(\n",
    "    model_name_or_path,\n",
    "    from_tf=False,\n",
    "    config=config,\n",
    "    cache_dir=None,\n",
    ")"
   ]
  },
  {
   "cell_type": "code",
   "execution_count": 98,
   "metadata": {},
   "outputs": [],
   "source": [
    "def color_answer_in_text(question, context, answer_start, answer_end):\n",
    "    offset = len(tokenizer.tokenize(question)) + 3\n",
    "    tokens = tokenizer.tokenize(context)\n",
    "    weights = [1 if ((i >= answer_start - offset) and (i < answer_end - offset)) \n",
    "               else 0 for i in range(len(tokens))]\n",
    "\n",
    "\n",
    "    tokens_clean = []\n",
    "    offset_clean = []\n",
    "\n",
    "    \n",
    "    for t, w in zip(tokens, weights):\n",
    "        if t.startswith('▁'):\n",
    "            offset_clean.append(w)\n",
    "            tokens_clean.append(t.strip('▁'))\n",
    "        else:\n",
    "            tokens_clean[-1] += t\n",
    "            offset_clean[-1] = max(offset_clean[-1], w)\n",
    "\n",
    "    print_(' '.join(color(tokens_clean, offset_clean, n=10)))"
   ]
  },
  {
   "cell_type": "code",
   "execution_count": 115,
   "metadata": {},
   "outputs": [
    {
     "data": {
      "text/plain": [
       "'11 novembre 1866'"
      ]
     },
     "execution_count": 115,
     "metadata": {},
     "output_type": "execute_result"
    }
   ],
   "source": [
    "question = \"Quand est venu au monde Paul Jules Antoine Meillet ?\"\n",
    "\n",
    "\n",
    "context = \"\"\"Paul Jules Antoine Meillet, né le 11 novembre 1866 à Moulins (Allier) et mort \n",
    "le 21 septembre 1936 à Châteaumeillant (Cher), est le principal linguiste français des \n",
    "premières décennies du xxe siècle. Il est aussi philologue. D'origine bourbonnaise, fils \n",
    "d'un notaire de Châteaumeillant (Cher), Antoine Meillet fait ses études secondaires au lycée \n",
    "de Moulins. Étudiant à la faculté des lettres de Paris à partir de 1885 où il suit notamment \n",
    "les cours de Louis Havet, il assiste également à ceux de Michel Bréal au Collège de France et \n",
    "de Ferdinand de Saussure à l'École pratique des hautes études.\"\"\"\n",
    "\n",
    "\n",
    "# 1. On tokenize l'input\n",
    "inputs = tokenizer.encode_plus(question, context, return_tensors=\"pt\") \n",
    "\n",
    "# 2. On prédit avec le modèle l'index de début et de fin de la réponse dans le texte\n",
    "answer_start_scores, answer_end_scores = model_qa(**inputs)\n",
    "answer_start = torch.argmax(answer_start_scores)  \n",
    "answer_end = torch.argmax(answer_end_scores) + 1  \n",
    "\n",
    "# 3. On renvoie le span de texte avec la réponse\n",
    "tokenizer.convert_tokens_to_string(tokenizer.convert_ids_to_tokens(inputs[\"input_ids\"][0][answer_start:answer_end]))"
   ]
  },
  {
   "cell_type": "code",
   "execution_count": 116,
   "metadata": {},
   "outputs": [
    {
     "data": {
      "text/html": [
       "\n",
       "        <style>\n",
       "        .tag {\n",
       "         padding:2px 2px 2px 2px;\n",
       "         border-radius: 5px 5px 5px 5px;\n",
       "         overflow:hidden;\n",
       "         display: inline-block;\n",
       "        }\n",
       "        </style><div class=\"tag\" style=\"background:#ffffff;\">Paul</div> <div class=\"tag\" style=\"background:#ffffff;\">Jules</div> <div class=\"tag\" style=\"background:#ffffff;\">Antoine</div> <div class=\"tag\" style=\"background:#ffffff;\">Meillet,</div> <div class=\"tag\" style=\"background:#ffffff;\">né</div> <div class=\"tag\" style=\"background:#ffffff;\">le</div> <div class=\"tag\" style=\"background:#1f8cf4;\">11</div> <div class=\"tag\" style=\"background:#1f8cf4;\">novembre</div> <div class=\"tag\" style=\"background:#1f8cf4;\">1866</div> <div class=\"tag\" style=\"background:#ffffff;\">à</div> <div class=\"tag\" style=\"background:#ffffff;\">Moulins</div> <div class=\"tag\" style=\"background:#ffffff;\">(Allier)</div> <div class=\"tag\" style=\"background:#ffffff;\">et</div> <div class=\"tag\" style=\"background:#ffffff;\">mort</div> <div class=\"tag\" style=\"background:#ffffff;\">le</div> <div class=\"tag\" style=\"background:#ffffff;\">21</div> <div class=\"tag\" style=\"background:#ffffff;\">septembre</div> <div class=\"tag\" style=\"background:#ffffff;\">1936</div> <div class=\"tag\" style=\"background:#ffffff;\">à</div> <div class=\"tag\" style=\"background:#ffffff;\">Châteaumeillant</div> <div class=\"tag\" style=\"background:#ffffff;\">(Cher),</div> <div class=\"tag\" style=\"background:#ffffff;\">est</div> <div class=\"tag\" style=\"background:#ffffff;\">le</div> <div class=\"tag\" style=\"background:#ffffff;\">principal</div> <div class=\"tag\" style=\"background:#ffffff;\">linguiste</div> <div class=\"tag\" style=\"background:#ffffff;\">français</div> <div class=\"tag\" style=\"background:#ffffff;\">des</div> <div class=\"tag\" style=\"background:#ffffff;\">premières</div> <div class=\"tag\" style=\"background:#ffffff;\">décennies</div> <div class=\"tag\" style=\"background:#ffffff;\">du</div> <div class=\"tag\" style=\"background:#ffffff;\">xxe</div> <div class=\"tag\" style=\"background:#ffffff;\">siècle.</div> <div class=\"tag\" style=\"background:#ffffff;\">Il</div> <div class=\"tag\" style=\"background:#ffffff;\">est</div> <div class=\"tag\" style=\"background:#ffffff;\">aussi</div> <div class=\"tag\" style=\"background:#ffffff;\">philologue.</div> <div class=\"tag\" style=\"background:#ffffff;\">D'origine</div> <div class=\"tag\" style=\"background:#ffffff;\">bourbonnaise,</div> <div class=\"tag\" style=\"background:#ffffff;\">fils</div> <div class=\"tag\" style=\"background:#ffffff;\">d'un</div> <div class=\"tag\" style=\"background:#ffffff;\">notaire</div> <div class=\"tag\" style=\"background:#ffffff;\">de</div> <div class=\"tag\" style=\"background:#ffffff;\">Châteaumeillant</div> <div class=\"tag\" style=\"background:#ffffff;\">(Cher),</div> <div class=\"tag\" style=\"background:#ffffff;\">Antoine</div> <div class=\"tag\" style=\"background:#ffffff;\">Meillet</div> <div class=\"tag\" style=\"background:#ffffff;\">fait</div> <div class=\"tag\" style=\"background:#ffffff;\">ses</div> <div class=\"tag\" style=\"background:#ffffff;\">études</div> <div class=\"tag\" style=\"background:#ffffff;\">secondaires</div> <div class=\"tag\" style=\"background:#ffffff;\">au</div> <div class=\"tag\" style=\"background:#ffffff;\">lycée</div> <div class=\"tag\" style=\"background:#ffffff;\">de</div> <div class=\"tag\" style=\"background:#ffffff;\">Moulins.</div> <div class=\"tag\" style=\"background:#ffffff;\">Étudiant</div> <div class=\"tag\" style=\"background:#ffffff;\">à</div> <div class=\"tag\" style=\"background:#ffffff;\">la</div> <div class=\"tag\" style=\"background:#ffffff;\">faculté</div> <div class=\"tag\" style=\"background:#ffffff;\">des</div> <div class=\"tag\" style=\"background:#ffffff;\">lettres</div> <div class=\"tag\" style=\"background:#ffffff;\">de</div> <div class=\"tag\" style=\"background:#ffffff;\">Paris</div> <div class=\"tag\" style=\"background:#ffffff;\">à</div> <div class=\"tag\" style=\"background:#ffffff;\">partir</div> <div class=\"tag\" style=\"background:#ffffff;\">de</div> <div class=\"tag\" style=\"background:#ffffff;\">1885</div> <div class=\"tag\" style=\"background:#ffffff;\">où</div> <div class=\"tag\" style=\"background:#ffffff;\">il</div> <div class=\"tag\" style=\"background:#ffffff;\">suit</div> <div class=\"tag\" style=\"background:#ffffff;\">notamment</div> <div class=\"tag\" style=\"background:#ffffff;\">les</div> <div class=\"tag\" style=\"background:#ffffff;\">cours</div> <div class=\"tag\" style=\"background:#ffffff;\">de</div> <div class=\"tag\" style=\"background:#ffffff;\">Louis</div> <div class=\"tag\" style=\"background:#ffffff;\">Havet,</div> <div class=\"tag\" style=\"background:#ffffff;\">il</div> <div class=\"tag\" style=\"background:#ffffff;\">assiste</div> <div class=\"tag\" style=\"background:#ffffff;\">également</div> <div class=\"tag\" style=\"background:#ffffff;\">à</div> <div class=\"tag\" style=\"background:#ffffff;\">ceux</div> <div class=\"tag\" style=\"background:#ffffff;\">de</div> <div class=\"tag\" style=\"background:#ffffff;\">Michel</div> <div class=\"tag\" style=\"background:#ffffff;\">Bréal</div> <div class=\"tag\" style=\"background:#ffffff;\">au</div> <div class=\"tag\" style=\"background:#ffffff;\">Collège</div> <div class=\"tag\" style=\"background:#ffffff;\">de</div> <div class=\"tag\" style=\"background:#ffffff;\">France</div> <div class=\"tag\" style=\"background:#ffffff;\">et</div> <div class=\"tag\" style=\"background:#ffffff;\">de</div> <div class=\"tag\" style=\"background:#ffffff;\">Ferdinand</div> <div class=\"tag\" style=\"background:#ffffff;\">de</div> <div class=\"tag\" style=\"background:#ffffff;\">Saussure</div> <div class=\"tag\" style=\"background:#ffffff;\">à</div> <div class=\"tag\" style=\"background:#ffffff;\">l'École</div> <div class=\"tag\" style=\"background:#ffffff;\">pratique</div> <div class=\"tag\" style=\"background:#ffffff;\">des</div> <div class=\"tag\" style=\"background:#ffffff;\">hautes</div> <div class=\"tag\" style=\"background:#ffffff;\">études.</div>"
      ],
      "text/plain": [
       "<IPython.core.display.HTML object>"
      ]
     },
     "metadata": {},
     "output_type": "display_data"
    }
   ],
   "source": [
    "color_answer_in_text(question, context, answer_start, answer_end)"
   ]
  },
  {
   "cell_type": "code",
   "execution_count": 113,
   "metadata": {},
   "outputs": [
    {
     "data": {
      "text/plain": [
       "'linguiste français'"
      ]
     },
     "execution_count": 113,
     "metadata": {},
     "output_type": "execute_result"
    }
   ],
   "source": [
    "question = \"Quel est le métier de Paul Jules Antoine Meillet ?\"\n",
    "\n",
    "\n",
    "context = \"\"\"Paul Jules Antoine Meillet, né le 11 novembre 1866 à Moulins (Allier) et mort \n",
    "le 21 septembre 1936 à Châteaumeillant (Cher), est le principal linguiste français des \n",
    "premières décennies du xxe siècle. Il est aussi philologue. D'origine bourbonnaise, fils \n",
    "d'un notaire de Châteaumeillant (Cher), Antoine Meillet fait ses études secondaires au lycée \n",
    "de Moulins. Étudiant à la faculté des lettres de Paris à partir de 1885 où il suit notamment \n",
    "les cours de Louis Havet, il assiste également à ceux de Michel Bréal au Collège de France et \n",
    "de Ferdinand de Saussure à l'École pratique des hautes études.\"\"\"\n",
    "\n",
    "\n",
    "# 1. On tokenize l'input\n",
    "inputs = tokenizer.encode_plus(question, context, return_tensors=\"pt\") \n",
    "\n",
    "# 2. On prédit avec le modèle l'index de début et de fin de la réponse dans le texte\n",
    "answer_start_scores, answer_end_scores = model_qa(**inputs)\n",
    "answer_start = torch.argmax(answer_start_scores)  \n",
    "answer_end = torch.argmax(answer_end_scores) + 1  \n",
    "\n",
    "# 3. On renvoie le span de texte avec la réponse\n",
    "tokenizer.convert_tokens_to_string(tokenizer.convert_ids_to_tokens(inputs[\"input_ids\"][0][answer_start:answer_end]))"
   ]
  },
  {
   "cell_type": "code",
   "execution_count": 114,
   "metadata": {},
   "outputs": [
    {
     "data": {
      "text/html": [
       "\n",
       "        <style>\n",
       "        .tag {\n",
       "         padding:2px 2px 2px 2px;\n",
       "         border-radius: 5px 5px 5px 5px;\n",
       "         overflow:hidden;\n",
       "         display: inline-block;\n",
       "        }\n",
       "        </style><div class=\"tag\" style=\"background:#ffffff;\">Paul</div> <div class=\"tag\" style=\"background:#ffffff;\">Jules</div> <div class=\"tag\" style=\"background:#ffffff;\">Antoine</div> <div class=\"tag\" style=\"background:#ffffff;\">Meillet,</div> <div class=\"tag\" style=\"background:#ffffff;\">né</div> <div class=\"tag\" style=\"background:#ffffff;\">le</div> <div class=\"tag\" style=\"background:#ffffff;\">11</div> <div class=\"tag\" style=\"background:#ffffff;\">novembre</div> <div class=\"tag\" style=\"background:#ffffff;\">1866</div> <div class=\"tag\" style=\"background:#ffffff;\">à</div> <div class=\"tag\" style=\"background:#ffffff;\">Moulins</div> <div class=\"tag\" style=\"background:#ffffff;\">(Allier)</div> <div class=\"tag\" style=\"background:#ffffff;\">et</div> <div class=\"tag\" style=\"background:#ffffff;\">mort</div> <div class=\"tag\" style=\"background:#ffffff;\">le</div> <div class=\"tag\" style=\"background:#ffffff;\">21</div> <div class=\"tag\" style=\"background:#ffffff;\">septembre</div> <div class=\"tag\" style=\"background:#ffffff;\">1936</div> <div class=\"tag\" style=\"background:#ffffff;\">à</div> <div class=\"tag\" style=\"background:#ffffff;\">Châteaumeillant</div> <div class=\"tag\" style=\"background:#ffffff;\">(Cher),</div> <div class=\"tag\" style=\"background:#ffffff;\">est</div> <div class=\"tag\" style=\"background:#ffffff;\">le</div> <div class=\"tag\" style=\"background:#ffffff;\">principal</div> <div class=\"tag\" style=\"background:#1f8cf4;\">linguiste</div> <div class=\"tag\" style=\"background:#1f8cf4;\">français</div> <div class=\"tag\" style=\"background:#ffffff;\">des</div> <div class=\"tag\" style=\"background:#ffffff;\">premières</div> <div class=\"tag\" style=\"background:#ffffff;\">décennies</div> <div class=\"tag\" style=\"background:#ffffff;\">du</div> <div class=\"tag\" style=\"background:#ffffff;\">xxe</div> <div class=\"tag\" style=\"background:#ffffff;\">siècle.</div> <div class=\"tag\" style=\"background:#ffffff;\">Il</div> <div class=\"tag\" style=\"background:#ffffff;\">est</div> <div class=\"tag\" style=\"background:#ffffff;\">aussi</div> <div class=\"tag\" style=\"background:#ffffff;\">philologue.</div> <div class=\"tag\" style=\"background:#ffffff;\">D'origine</div> <div class=\"tag\" style=\"background:#ffffff;\">bourbonnaise,</div> <div class=\"tag\" style=\"background:#ffffff;\">fils</div> <div class=\"tag\" style=\"background:#ffffff;\">d'un</div> <div class=\"tag\" style=\"background:#ffffff;\">notaire</div> <div class=\"tag\" style=\"background:#ffffff;\">de</div> <div class=\"tag\" style=\"background:#ffffff;\">Châteaumeillant</div> <div class=\"tag\" style=\"background:#ffffff;\">(Cher),</div> <div class=\"tag\" style=\"background:#ffffff;\">Antoine</div> <div class=\"tag\" style=\"background:#ffffff;\">Meillet</div> <div class=\"tag\" style=\"background:#ffffff;\">fait</div> <div class=\"tag\" style=\"background:#ffffff;\">ses</div> <div class=\"tag\" style=\"background:#ffffff;\">études</div> <div class=\"tag\" style=\"background:#ffffff;\">secondaires</div> <div class=\"tag\" style=\"background:#ffffff;\">au</div> <div class=\"tag\" style=\"background:#ffffff;\">lycée</div> <div class=\"tag\" style=\"background:#ffffff;\">de</div> <div class=\"tag\" style=\"background:#ffffff;\">Moulins.</div> <div class=\"tag\" style=\"background:#ffffff;\">Étudiant</div> <div class=\"tag\" style=\"background:#ffffff;\">à</div> <div class=\"tag\" style=\"background:#ffffff;\">la</div> <div class=\"tag\" style=\"background:#ffffff;\">faculté</div> <div class=\"tag\" style=\"background:#ffffff;\">des</div> <div class=\"tag\" style=\"background:#ffffff;\">lettres</div> <div class=\"tag\" style=\"background:#ffffff;\">de</div> <div class=\"tag\" style=\"background:#ffffff;\">Paris</div> <div class=\"tag\" style=\"background:#ffffff;\">à</div> <div class=\"tag\" style=\"background:#ffffff;\">partir</div> <div class=\"tag\" style=\"background:#ffffff;\">de</div> <div class=\"tag\" style=\"background:#ffffff;\">1885</div> <div class=\"tag\" style=\"background:#ffffff;\">où</div> <div class=\"tag\" style=\"background:#ffffff;\">il</div> <div class=\"tag\" style=\"background:#ffffff;\">suit</div> <div class=\"tag\" style=\"background:#ffffff;\">notamment</div> <div class=\"tag\" style=\"background:#ffffff;\">les</div> <div class=\"tag\" style=\"background:#ffffff;\">cours</div> <div class=\"tag\" style=\"background:#ffffff;\">de</div> <div class=\"tag\" style=\"background:#ffffff;\">Louis</div> <div class=\"tag\" style=\"background:#ffffff;\">Havet,</div> <div class=\"tag\" style=\"background:#ffffff;\">il</div> <div class=\"tag\" style=\"background:#ffffff;\">assiste</div> <div class=\"tag\" style=\"background:#ffffff;\">également</div> <div class=\"tag\" style=\"background:#ffffff;\">à</div> <div class=\"tag\" style=\"background:#ffffff;\">ceux</div> <div class=\"tag\" style=\"background:#ffffff;\">de</div> <div class=\"tag\" style=\"background:#ffffff;\">Michel</div> <div class=\"tag\" style=\"background:#ffffff;\">Bréal</div> <div class=\"tag\" style=\"background:#ffffff;\">au</div> <div class=\"tag\" style=\"background:#ffffff;\">Collège</div> <div class=\"tag\" style=\"background:#ffffff;\">de</div> <div class=\"tag\" style=\"background:#ffffff;\">France</div> <div class=\"tag\" style=\"background:#ffffff;\">et</div> <div class=\"tag\" style=\"background:#ffffff;\">de</div> <div class=\"tag\" style=\"background:#ffffff;\">Ferdinand</div> <div class=\"tag\" style=\"background:#ffffff;\">de</div> <div class=\"tag\" style=\"background:#ffffff;\">Saussure</div> <div class=\"tag\" style=\"background:#ffffff;\">à</div> <div class=\"tag\" style=\"background:#ffffff;\">l'École</div> <div class=\"tag\" style=\"background:#ffffff;\">pratique</div> <div class=\"tag\" style=\"background:#ffffff;\">des</div> <div class=\"tag\" style=\"background:#ffffff;\">hautes</div> <div class=\"tag\" style=\"background:#ffffff;\">études.</div>"
      ],
      "text/plain": [
       "<IPython.core.display.HTML object>"
      ]
     },
     "metadata": {},
     "output_type": "display_data"
    }
   ],
   "source": [
    "color_answer_in_text(question, context, answer_start, answer_end)"
   ]
  },
  {
   "cell_type": "code",
   "execution_count": 108,
   "metadata": {},
   "outputs": [
    {
     "data": {
      "text/plain": [
       "'Julien Mari1,'"
      ]
     },
     "execution_count": 108,
     "metadata": {},
     "output_type": "execute_result"
    }
   ],
   "source": [
    "question = \"Quel est le vrai nom de Jul ?\"\n",
    "\n",
    "\n",
    "context = \"\"\"Jul, de son vrai nom Julien Mari1, est un rappeur et chanteur français, \n",
    "né le 14 janvier 1990 dans le 12e arrondissement de Marseille.\n",
    "Il publie son premier single, Sort le cross volé, en novembre 2013 suivi en février 2014 \n",
    "d'un album entier, Dans ma paranoïa, le premier d'une série prolifique : \n",
    "deux albums complets par an depuis le début de sa carrière, tous certifiés au moins disque de platine.\n",
    "En 2015, Jul quitte le label Liga One Industry à la suite de désaccords financiers et \n",
    "fonde son propre label indépendant, D'or et de platine. L'année suivante, il reçoit la récompense \n",
    "du meilleur album de musique urbaine aux 32es Victoires de la musique pour l'album My World.\"\"\"\n",
    "\n",
    "\n",
    "# 1. On tokenize l'input\n",
    "inputs = tokenizer.encode_plus(question, context, return_tensors=\"pt\") \n",
    "\n",
    "# 2. On prédit avec le modèle l'index de début et de fin de la réponse dans le texte\n",
    "answer_start_scores, answer_end_scores = model_qa(**inputs)\n",
    "answer_start = torch.argmax(answer_start_scores) \n",
    "answer_end = torch.argmax(answer_end_scores) + 1 \n",
    "\n",
    "# 3. On renvoie le span de texte avec la réponse\n",
    "tokenizer.convert_tokens_to_string(tokenizer.convert_ids_to_tokens(inputs[\"input_ids\"][0][answer_start:answer_end]))"
   ]
  },
  {
   "cell_type": "code",
   "execution_count": 109,
   "metadata": {},
   "outputs": [
    {
     "data": {
      "text/html": [
       "\n",
       "        <style>\n",
       "        .tag {\n",
       "         padding:2px 2px 2px 2px;\n",
       "         border-radius: 5px 5px 5px 5px;\n",
       "         overflow:hidden;\n",
       "         display: inline-block;\n",
       "        }\n",
       "        </style><div class=\"tag\" style=\"background:#ffffff;\">Jul,</div> <div class=\"tag\" style=\"background:#ffffff;\">de</div> <div class=\"tag\" style=\"background:#ffffff;\">son</div> <div class=\"tag\" style=\"background:#ffffff;\">vrai</div> <div class=\"tag\" style=\"background:#ffffff;\">nom</div> <div class=\"tag\" style=\"background:#1f8cf4;\">Julien</div> <div class=\"tag\" style=\"background:#1f8cf4;\">Mari1,</div> <div class=\"tag\" style=\"background:#ffffff;\">est</div> <div class=\"tag\" style=\"background:#ffffff;\">un</div> <div class=\"tag\" style=\"background:#ffffff;\">rappeur</div> <div class=\"tag\" style=\"background:#ffffff;\">et</div> <div class=\"tag\" style=\"background:#ffffff;\">chanteur</div> <div class=\"tag\" style=\"background:#ffffff;\">français,</div> <div class=\"tag\" style=\"background:#ffffff;\">né</div> <div class=\"tag\" style=\"background:#ffffff;\">le</div> <div class=\"tag\" style=\"background:#ffffff;\">14</div> <div class=\"tag\" style=\"background:#ffffff;\">janvier</div> <div class=\"tag\" style=\"background:#ffffff;\">1990</div> <div class=\"tag\" style=\"background:#ffffff;\">dans</div> <div class=\"tag\" style=\"background:#ffffff;\">le</div> <div class=\"tag\" style=\"background:#ffffff;\">12e</div> <div class=\"tag\" style=\"background:#ffffff;\">arrondissement</div> <div class=\"tag\" style=\"background:#ffffff;\">de</div> <div class=\"tag\" style=\"background:#ffffff;\">Marseille.</div> <div class=\"tag\" style=\"background:#ffffff;\">Il</div> <div class=\"tag\" style=\"background:#ffffff;\">publie</div> <div class=\"tag\" style=\"background:#ffffff;\">son</div> <div class=\"tag\" style=\"background:#ffffff;\">premier</div> <div class=\"tag\" style=\"background:#ffffff;\">single,</div> <div class=\"tag\" style=\"background:#ffffff;\">Sort</div> <div class=\"tag\" style=\"background:#ffffff;\">le</div> <div class=\"tag\" style=\"background:#ffffff;\">cross</div> <div class=\"tag\" style=\"background:#ffffff;\">volé,</div> <div class=\"tag\" style=\"background:#ffffff;\">en</div> <div class=\"tag\" style=\"background:#ffffff;\">novembre</div> <div class=\"tag\" style=\"background:#ffffff;\">2013</div> <div class=\"tag\" style=\"background:#ffffff;\">suivi</div> <div class=\"tag\" style=\"background:#ffffff;\">en</div> <div class=\"tag\" style=\"background:#ffffff;\">février</div> <div class=\"tag\" style=\"background:#ffffff;\">2014</div> <div class=\"tag\" style=\"background:#ffffff;\">d'un</div> <div class=\"tag\" style=\"background:#ffffff;\">album</div> <div class=\"tag\" style=\"background:#ffffff;\">entier,</div> <div class=\"tag\" style=\"background:#ffffff;\">Dans</div> <div class=\"tag\" style=\"background:#ffffff;\">ma</div> <div class=\"tag\" style=\"background:#ffffff;\">paranoïa,</div> <div class=\"tag\" style=\"background:#ffffff;\">le</div> <div class=\"tag\" style=\"background:#ffffff;\">premier</div> <div class=\"tag\" style=\"background:#ffffff;\">d'une</div> <div class=\"tag\" style=\"background:#ffffff;\">série</div> <div class=\"tag\" style=\"background:#ffffff;\">prolifique</div> <div class=\"tag\" style=\"background:#ffffff;\">:</div> <div class=\"tag\" style=\"background:#ffffff;\">deux</div> <div class=\"tag\" style=\"background:#ffffff;\">albums</div> <div class=\"tag\" style=\"background:#ffffff;\">complets</div> <div class=\"tag\" style=\"background:#ffffff;\">par</div> <div class=\"tag\" style=\"background:#ffffff;\">an</div> <div class=\"tag\" style=\"background:#ffffff;\">depuis</div> <div class=\"tag\" style=\"background:#ffffff;\">le</div> <div class=\"tag\" style=\"background:#ffffff;\">début</div> <div class=\"tag\" style=\"background:#ffffff;\">de</div> <div class=\"tag\" style=\"background:#ffffff;\">sa</div> <div class=\"tag\" style=\"background:#ffffff;\">carrière,</div> <div class=\"tag\" style=\"background:#ffffff;\">tous</div> <div class=\"tag\" style=\"background:#ffffff;\">certifiés</div> <div class=\"tag\" style=\"background:#ffffff;\">au</div> <div class=\"tag\" style=\"background:#ffffff;\">moins</div> <div class=\"tag\" style=\"background:#ffffff;\">disque</div> <div class=\"tag\" style=\"background:#ffffff;\">de</div> <div class=\"tag\" style=\"background:#ffffff;\">platine.</div> <div class=\"tag\" style=\"background:#ffffff;\">En</div> <div class=\"tag\" style=\"background:#ffffff;\">2015,</div> <div class=\"tag\" style=\"background:#ffffff;\">Jul</div> <div class=\"tag\" style=\"background:#ffffff;\">quitte</div> <div class=\"tag\" style=\"background:#ffffff;\">le</div> <div class=\"tag\" style=\"background:#ffffff;\">label</div> <div class=\"tag\" style=\"background:#ffffff;\">Liga</div> <div class=\"tag\" style=\"background:#ffffff;\">One</div> <div class=\"tag\" style=\"background:#ffffff;\">Industry</div> <div class=\"tag\" style=\"background:#ffffff;\">à</div> <div class=\"tag\" style=\"background:#ffffff;\">la</div> <div class=\"tag\" style=\"background:#ffffff;\">suite</div> <div class=\"tag\" style=\"background:#ffffff;\">de</div> <div class=\"tag\" style=\"background:#ffffff;\">désaccords</div> <div class=\"tag\" style=\"background:#ffffff;\">financiers</div> <div class=\"tag\" style=\"background:#ffffff;\">et</div> <div class=\"tag\" style=\"background:#ffffff;\">fonde</div> <div class=\"tag\" style=\"background:#ffffff;\">son</div> <div class=\"tag\" style=\"background:#ffffff;\">propre</div> <div class=\"tag\" style=\"background:#ffffff;\">label</div> <div class=\"tag\" style=\"background:#ffffff;\">indépendant,</div> <div class=\"tag\" style=\"background:#ffffff;\">D'or</div> <div class=\"tag\" style=\"background:#ffffff;\">et</div> <div class=\"tag\" style=\"background:#ffffff;\">de</div> <div class=\"tag\" style=\"background:#ffffff;\">platine.</div> <div class=\"tag\" style=\"background:#ffffff;\">L'année</div> <div class=\"tag\" style=\"background:#ffffff;\">suivante,</div> <div class=\"tag\" style=\"background:#ffffff;\">il</div> <div class=\"tag\" style=\"background:#ffffff;\">reçoit</div> <div class=\"tag\" style=\"background:#ffffff;\">la</div> <div class=\"tag\" style=\"background:#ffffff;\">récompense</div> <div class=\"tag\" style=\"background:#ffffff;\">du</div> <div class=\"tag\" style=\"background:#ffffff;\">meilleur</div> <div class=\"tag\" style=\"background:#ffffff;\">album</div> <div class=\"tag\" style=\"background:#ffffff;\">de</div> <div class=\"tag\" style=\"background:#ffffff;\">musique</div> <div class=\"tag\" style=\"background:#ffffff;\">urbaine</div> <div class=\"tag\" style=\"background:#ffffff;\">aux</div> <div class=\"tag\" style=\"background:#ffffff;\">32es</div> <div class=\"tag\" style=\"background:#ffffff;\">Victoires</div> <div class=\"tag\" style=\"background:#ffffff;\">de</div> <div class=\"tag\" style=\"background:#ffffff;\">la</div> <div class=\"tag\" style=\"background:#ffffff;\">musique</div> <div class=\"tag\" style=\"background:#ffffff;\">pour</div> <div class=\"tag\" style=\"background:#ffffff;\">l'album</div> <div class=\"tag\" style=\"background:#ffffff;\">My</div> <div class=\"tag\" style=\"background:#ffffff;\">World.</div>"
      ],
      "text/plain": [
       "<IPython.core.display.HTML object>"
      ]
     },
     "metadata": {},
     "output_type": "display_data"
    }
   ],
   "source": [
    "color_answer_in_text(question, context, answer_start, answer_end)"
   ]
  },
  {
   "cell_type": "code",
   "execution_count": null,
   "metadata": {},
   "outputs": [],
   "source": []
  }
 ],
 "metadata": {
  "kernelspec": {
   "display_name": "Python 3",
   "language": "python",
   "name": "python3"
  },
  "language_info": {
   "codemirror_mode": {
    "name": "ipython",
    "version": 3
   },
   "file_extension": ".py",
   "mimetype": "text/x-python",
   "name": "python",
   "nbconvert_exporter": "python",
   "pygments_lexer": "ipython3",
   "version": "3.8.8"
  }
 },
 "nbformat": 4,
 "nbformat_minor": 4
}
